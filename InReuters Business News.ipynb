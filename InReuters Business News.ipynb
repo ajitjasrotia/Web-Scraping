{
 "cells": [
  {
   "cell_type": "code",
   "execution_count": null,
   "metadata": {
    "collapsed": true
   },
   "outputs": [],
   "source": [
    "import newspaper\n",
    "import time\n",
    "import pandas as pd\n",
    "import numpy as np\n",
    "from datetime import datetime, timedelta\n",
    "import requests\n",
    "from bs4 import BeautifulSoup \n",
    "from newspaper import Article\n",
    "\n",
    "stocks = {'Apple':'AAPL','Google':'GOOGL','facebook':'FB','Tesla':'TSLA','Microsoft':'MSFT','Yahoo':'AABA','Sage':'sage'}\n",
    "list = []\n",
    "def scrap(stock,days):\n",
    "    date = 'true'\n",
    "    i = 1\n",
    "    day = (datetime.now() - timedelta(days=days-1)).strftime(\"%d\")\n",
    "    while date == 'true':\n",
    "        url = 'http://www.nasdaq.com/symbol/'+stocks[stock]+'/news-headlines?page='+str(i)\n",
    "        html = requests.get(url)\n",
    "        soup = BeautifulSoup(html.text, \"lxml\")\n",
    "        divs = soup.findAll('div',attrs={'class':'news-headlines'})\n",
    "        spans = divs[0].findAll('span',attrs={'class':'fontS14px'})\n",
    "        small = divs[0].findAll('small')\n",
    "        i = i+1\n",
    "        url_list = []\n",
    "        for span in range(10):\n",
    "            print(\"\\nDate : \",small[span].text.strip().split('/')[1]+\"\\n\")\n",
    "            if(int(small[span].text.strip().split('/')[1]) < int(day)):\n",
    "                date = 'false'\n",
    "                break\n",
    "            link = spans[span].find('a')\n",
    "            print(link['href'])\n",
    "            url_list.append(link['href'])\n",
    "        for url in url_list:\n",
    "            try:\n",
    "                news = Article(url)\n",
    "                news.download()\n",
    "                time.sleep(1)\n",
    "                news.parse()\n",
    "            except:\n",
    "                continue\n",
    "            list.append({'Ticker':stock,'Title':news.title,'Text':news.text.replace('\\n',' '),'Date':news.publish_date,'Author':news.authors})\n",
    "    panda = pd.DataFrame(data=list,columns=['Ticker', 'Title', 'Text', 'Date', 'Author'])\n",
    "    panda.to_csv(stock+'.txt', encoding='utf-8',index=False)\n",
    "  \n",
    "scrap('Sage',7)\n"
   ]
  }
 ],
 "metadata": {
  "kernelspec": {
   "display_name": "Python 3",
   "language": "python",
   "name": "python3"
  },
  "language_info": {
   "codemirror_mode": {
    "name": "ipython",
    "version": 3
   },
   "file_extension": ".py",
   "mimetype": "text/x-python",
   "name": "python",
   "nbconvert_exporter": "python",
   "pygments_lexer": "ipython3",
   "version": "3.6.3"
  }
 },
 "nbformat": 4,
 "nbformat_minor": 2
}
